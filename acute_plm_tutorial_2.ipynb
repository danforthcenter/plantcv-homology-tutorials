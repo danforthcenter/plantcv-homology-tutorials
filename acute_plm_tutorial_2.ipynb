{
 "cells": [
  {
   "cell_type": "markdown",
   "id": "234fc7ef",
   "metadata": {},
   "source": [
    "# Exercise 2: Applying acute on batch datasets\n",
    "\n",
    "In the previous exercise we learned how to use some basic tools latent to PlantCV to explore color spaces and extract plant shapes from an image then use this shape data for generating pseudo-landmarks (plms) with `acute` while thinking a bit about how `acute` is making its calls for de novo landmarks.  While this is useful and necessary we also need to think about how best to scale up our code in order to be used on batch datasets which can consist of multiple images either of the same genotype or of comparable stages of different genotypes.  For the sake of this demonstration we'll design a loop to run `acute` on a time series from the dataset we began to explore in the previous exercise.  With that all being said lets get started by taking a look at the files we have on hand...\n"
   ]
  },
  {
   "cell_type": "code",
   "execution_count": 1,
   "id": "3581d273",
   "metadata": {},
   "outputs": [],
   "source": [
    "%matplotlib widget\n",
    "from plantcv import plantcv as pcv\n",
    "import os\n",
    "import numpy as np\n",
    "import cv2\n",
    "from matplotlib import pyplot as plt"
   ]
  },
  {
   "cell_type": "code",
   "execution_count": 2,
   "id": "d80c2c73",
   "metadata": {},
   "outputs": [],
   "source": [
    "# PlantCV adjustable global parameters\n",
    "pcv.params.debug = \"plot\"\n",
    "pcv.params.text_size = 20\n",
    "pcv.params.text_thickness = 10\n",
    "pcv.params.line_thickness = 14"
   ]
  },
  {
   "cell_type": "code",
   "execution_count": 3,
   "id": "80f6cbc0",
   "metadata": {},
   "outputs": [],
   "source": [
    "win = 25\n",
    "thresh = 90\n",
    "path = \"./imgs\""
   ]
  },
  {
   "cell_type": "code",
   "execution_count": 4,
   "id": "5126ee41",
   "metadata": {},
   "outputs": [
    {
     "data": {
      "text/plain": [
       "['B100_rep1_d12.jpg',\n",
       " 'B100_rep1_d13.jpg',\n",
       " 'B100_rep1_d11.jpg',\n",
       " 'B100_rep1_d10.jpg']"
      ]
     },
     "execution_count": 4,
     "metadata": {},
     "output_type": "execute_result"
    }
   ],
   "source": [
    "os.listdir(path)"
   ]
  },
  {
   "cell_type": "markdown",
   "id": "0c8efdea",
   "metadata": {},
   "source": [
    "So already we can see that there seems to be a general theme with how these images are named following a 'Genotype' + 'Timepoint' + '.jpg' format.  Although this is just one form of serial naming strategy it is always advised with projects that will consist of large scale datasets to perform some initial step of data carpentry and decide a consistent manner of naming early on.  The reason this is important we'll see below when we design a for loop. Before we run the loop itself let's go ahead and specify the variables we'll need for this serial naming scheme and discuss what each one represents...\n"
   ]
  },
  {
   "cell_type": "code",
   "execution_count": 5,
   "id": "22a96b23",
   "metadata": {},
   "outputs": [],
   "source": [
    "days = range(10, 14)\n",
    "name_prefix = 'B100_rep1_d'"
   ]
  },
  {
   "cell_type": "markdown",
   "id": "3d03ca63",
   "metadata": {},
   "source": [
    "So we have 3 different variables we'll need we've created above days which is a list of integers that ranges from 10-13 in a Pythonic fashion, a name prefix we can attach to each days integer to complete our serial names, and we'll also need a path to our files in the directory space which we have already specified earlier. Before we go ahead and scale up our code from the previous exercise let's first build a dummy loop which can perform a simple task on these files to be sure that we can read them in properly...\n"
   ]
  },
  {
   "cell_type": "code",
   "execution_count": 6,
   "id": "a4a9d3ea",
   "metadata": {},
   "outputs": [
    {
     "data": {
      "application/vnd.jupyter.widget-view+json": {
       "model_id": "1037947e2644443f91d89d7e2aa6c910",
       "version_major": 2,
       "version_minor": 0
      },
      "text/plain": [
       "Canvas(toolbar=Toolbar(toolitems=[('Home', 'Reset original view', 'home', 'home'), ('Back', 'Back to previous …"
      ]
     },
     "metadata": {},
     "output_type": "display_data"
    },
    {
     "data": {
      "application/vnd.jupyter.widget-view+json": {
       "model_id": "80bb0c1c65ed41129de3c6c7b25ab9ef",
       "version_major": 2,
       "version_minor": 0
      },
      "text/plain": [
       "Canvas(toolbar=Toolbar(toolitems=[('Home', 'Reset original view', 'home', 'home'), ('Back', 'Back to previous …"
      ]
     },
     "metadata": {},
     "output_type": "display_data"
    },
    {
     "data": {
      "application/vnd.jupyter.widget-view+json": {
       "model_id": "041ccbdb885a4378b8a87a2e3ba645fa",
       "version_major": 2,
       "version_minor": 0
      },
      "text/plain": [
       "Canvas(toolbar=Toolbar(toolitems=[('Home', 'Reset original view', 'home', 'home'), ('Back', 'Back to previous …"
      ]
     },
     "metadata": {},
     "output_type": "display_data"
    },
    {
     "data": {
      "application/vnd.jupyter.widget-view+json": {
       "model_id": "67813f13d1274604a55c84ecdfdafb97",
       "version_major": 2,
       "version_minor": 0
      },
      "text/plain": [
       "Canvas(toolbar=Toolbar(toolitems=[('Home', 'Reset original view', 'home', 'home'), ('Back', 'Back to previous …"
      ]
     },
     "metadata": {},
     "output_type": "display_data"
    }
   ],
   "source": [
    "for day in days:\n",
    "    img, imgpath, imgname = pcv.readimage(filename=os.path.join(path, f\"{name_prefix}{day}.jpg\"))"
   ]
  },
  {
   "cell_type": "markdown",
   "id": "bad014d7",
   "metadata": {},
   "source": [
    "Notice in the script above that we have largely reused some code from our previous exercise, however, just to call attention to a concept we didn't discuss before notice how we can stitch together strings in Python using the 'f-string' syntax. With this method, strings, numbers, and other data types are automatically converted to strings in the final output. We're almost ready to iteratively run the acute workflow but before we do that we'll need to create an empty list (but we'll at least fill it with a header at least to start).\n"
   ]
  },
  {
   "cell_type": "code",
   "execution_count": 7,
   "id": "8cc24b6d",
   "metadata": {},
   "outputs": [],
   "source": [
    "landmark_output=[['name', 'plm_x', 'plm_y', 'SS_x', 'SS_y', 'TS_x', 'TS_y', 'CC_ratio']]"
   ]
  },
  {
   "cell_type": "markdown",
   "id": "94289139",
   "metadata": {},
   "source": [
    "As we iteratively run `acute` on each frame we'll end up storing the landmarks generated from that day within landmark output. Note that if we didn't have this on hand (or another comparable list) before we started our variables wouldn't have anywhere to go for us to successfully save them! Now let's repeat what we learned from the previous exercise at scale...\n"
   ]
  },
  {
   "cell_type": "code",
   "execution_count": 8,
   "id": "d483bfd3",
   "metadata": {},
   "outputs": [
    {
     "name": "stdout",
     "output_type": "stream",
     "text": [
      "Warning: roi_type='largest' will only return the largest contour and its immediate children. Other subcontours will be dropped.\n",
      "Contour volume: 2184.140382528305\n",
      "Fusing contour edges\n",
      "route C\n",
      "Landmark site: 1841, Start site: 1819, Term. site: 21\n",
      "Landmark point indices: [1841]\n",
      "Starting site indices: [1819]\n",
      "Termination site indices: [21]\n",
      "route C\n",
      "Landmark site: 308, Start site: 284, Term. site: 333\n",
      "Landmark point indices: [1841, 308]\n",
      "Starting site indices: [1819, 284]\n",
      "Termination site indices: [21, 333]\n",
      "route C\n",
      "Landmark site: 553, Start site: 528, Term. site: 577\n",
      "Landmark point indices: [1841, 308, 553]\n",
      "Starting site indices: [1819, 284, 528]\n",
      "Termination site indices: [21, 333, 577]\n",
      "route C\n",
      "Landmark site: 883, Start site: 869, Term. site: 894\n",
      "Landmark point indices: [1841, 308, 553, 883]\n",
      "Starting site indices: [1819, 284, 528, 869]\n",
      "Termination site indices: [21, 333, 577, 894]\n",
      "route C\n",
      "Landmark site: 976, Start site: 948, Term. site: 1001\n",
      "Landmark point indices: [1841, 308, 553, 883, 976]\n",
      "Starting site indices: [1819, 284, 528, 869, 948]\n",
      "Termination site indices: [21, 333, 577, 894, 1001]\n",
      "route C\n",
      "Landmark site: 1110, Start site: 1080, Term. site: 1137\n",
      "Landmark point indices: [1841, 308, 553, 883, 976, 1110]\n",
      "Starting site indices: [1819, 284, 528, 869, 948, 1080]\n",
      "Termination site indices: [21, 333, 577, 894, 1001, 1137]\n",
      "route C\n",
      "Landmark site: 1334, Start site: 1310, Term. site: 1359\n",
      "Landmark point indices: [1841, 308, 553, 883, 976, 1110, 1334]\n",
      "Starting site indices: [1819, 284, 528, 869, 948, 1080, 1310]\n",
      "Termination site indices: [21, 333, 577, 894, 1001, 1137, 1359]\n",
      "route C\n",
      "Landmark site: 1476, Start site: 1454, Term. site: 1502\n",
      "Landmark point indices: [1841, 308, 553, 883, 976, 1110, 1334, 1476]\n",
      "Starting site indices: [1819, 284, 528, 869, 948, 1080, 1310, 1454]\n",
      "Termination site indices: [21, 333, 577, 894, 1001, 1137, 1359, 1502]\n"
     ]
    },
    {
     "data": {
      "application/vnd.jupyter.widget-view+json": {
       "model_id": "e94a963c01f040b7b1131b3935611e24",
       "version_major": 2,
       "version_minor": 0
      },
      "text/plain": [
       "Canvas(toolbar=Toolbar(toolitems=[('Home', 'Reset original view', 'home', 'home'), ('Back', 'Back to previous …"
      ]
     },
     "metadata": {},
     "output_type": "display_data"
    },
    {
     "name": "stdout",
     "output_type": "stream",
     "text": [
      "    landmark number: 8\n",
      "Warning: roi_type='largest' will only return the largest contour and its immediate children. Other subcontours will be dropped.\n",
      "Contour volume: 2436.750554203987\n",
      "Fusing contour edges\n",
      "route C\n",
      "Landmark site: 2070, Start site: 2047, Term. site: 18\n",
      "Landmark point indices: [2070]\n",
      "Starting site indices: [2047]\n",
      "Termination site indices: [18]\n",
      "route C\n",
      "Landmark site: 265, Start site: 241, Term. site: 289\n",
      "Landmark point indices: [2070, 265]\n",
      "Starting site indices: [2047, 241]\n",
      "Termination site indices: [18, 289]\n",
      "route C\n",
      "Landmark site: 401, Start site: 377, Term. site: 428\n",
      "Landmark point indices: [2070, 265, 401]\n",
      "Starting site indices: [2047, 241, 377]\n",
      "Termination site indices: [18, 289, 428]\n",
      "route C\n",
      "Landmark site: 598, Start site: 574, Term. site: 620\n",
      "Landmark point indices: [2070, 265, 401, 598]\n",
      "Starting site indices: [2047, 241, 377, 574]\n",
      "Termination site indices: [18, 289, 428, 620]\n",
      "route C\n",
      "Landmark site: 839, Start site: 816, Term. site: 862\n",
      "Landmark point indices: [2070, 265, 401, 598, 839]\n",
      "Starting site indices: [2047, 241, 377, 574, 816]\n",
      "Termination site indices: [18, 289, 428, 620, 862]\n",
      "route C\n",
      "Landmark site: 1159, Start site: 1143, Term. site: 1173\n",
      "Landmark point indices: [2070, 265, 401, 598, 839, 1159]\n",
      "Starting site indices: [2047, 241, 377, 574, 816, 1143]\n",
      "Termination site indices: [18, 289, 428, 620, 862, 1173]\n",
      "route C\n",
      "Landmark site: 1258, Start site: 1228, Term. site: 1282\n",
      "Landmark point indices: [2070, 265, 401, 598, 839, 1159, 1258]\n",
      "Starting site indices: [2047, 241, 377, 574, 816, 1143, 1228]\n",
      "Termination site indices: [18, 289, 428, 620, 862, 1173, 1282]\n",
      "route C\n",
      "Landmark site: 1383, Start site: 1352, Term. site: 1406\n",
      "Landmark point indices: [2070, 265, 401, 598, 839, 1159, 1258, 1383]\n",
      "Starting site indices: [2047, 241, 377, 574, 816, 1143, 1228, 1352]\n",
      "Termination site indices: [18, 289, 428, 620, 862, 1173, 1282, 1406]\n",
      "route C\n",
      "Landmark site: 1581, Start site: 1557, Term. site: 1605\n",
      "Landmark point indices: [2070, 265, 401, 598, 839, 1159, 1258, 1383, 1581]\n",
      "Starting site indices: [2047, 241, 377, 574, 816, 1143, 1228, 1352, 1557]\n",
      "Termination site indices: [18, 289, 428, 620, 862, 1173, 1282, 1406, 1605]\n",
      "route C\n",
      "Landmark site: 1707, Start site: 1692, Term. site: 1724\n",
      "Landmark point indices: [2070, 265, 401, 598, 839, 1159, 1258, 1383, 1581, 1707]\n",
      "Starting site indices: [2047, 241, 377, 574, 816, 1143, 1228, 1352, 1557, 1692]\n",
      "Termination site indices: [18, 289, 428, 620, 862, 1173, 1282, 1406, 1605, 1724]\n"
     ]
    },
    {
     "data": {
      "application/vnd.jupyter.widget-view+json": {
       "model_id": "5a3c70dcfd134ef8ac06c099f25533fa",
       "version_major": 2,
       "version_minor": 0
      },
      "text/plain": [
       "Canvas(toolbar=Toolbar(toolitems=[('Home', 'Reset original view', 'home', 'home'), ('Back', 'Back to previous …"
      ]
     },
     "metadata": {},
     "output_type": "display_data"
    },
    {
     "name": "stdout",
     "output_type": "stream",
     "text": [
      "    landmark number: 10\n",
      "Warning: roi_type='largest' will only return the largest contour and its immediate children. Other subcontours will be dropped.\n",
      "Contour volume: 2664.7160643339157\n",
      "Fusing contour edges\n",
      "route C\n",
      "Landmark site: 0, Start site: 2242, Term. site: 21\n",
      "Landmark point indices: [0]\n",
      "Starting site indices: [2242]\n",
      "Termination site indices: [21]\n",
      "route C\n",
      "Landmark site: 280, Start site: 258, Term. site: 303\n",
      "Landmark point indices: [0, 280]\n",
      "Starting site indices: [2242, 258]\n",
      "Termination site indices: [21, 303]\n",
      "route C\n",
      "Landmark site: 494, Start site: 472, Term. site: 519\n",
      "Landmark point indices: [0, 280, 494]\n",
      "Starting site indices: [2242, 258, 472]\n",
      "Termination site indices: [21, 303, 519]\n",
      "route C\n",
      "Landmark site: 773, Start site: 750, Term. site: 799\n",
      "Landmark point indices: [0, 280, 494, 773]\n",
      "Starting site indices: [2242, 258, 472, 750]\n",
      "Termination site indices: [21, 303, 519, 799]\n",
      "route C\n",
      "Landmark site: 1008, Start site: 988, Term. site: 1031\n",
      "Landmark point indices: [0, 280, 494, 773, 1008]\n",
      "Starting site indices: [2242, 258, 472, 750, 988]\n",
      "Termination site indices: [21, 303, 519, 799, 1031]\n",
      "route C\n",
      "Landmark site: 1323, Start site: 1311, Term. site: 1338\n",
      "Landmark point indices: [0, 280, 494, 773, 1008, 1323]\n",
      "Starting site indices: [2242, 258, 472, 750, 988, 1311]\n",
      "Termination site indices: [21, 303, 519, 799, 1031, 1338]\n",
      "route C\n",
      "Landmark site: 1408, Start site: 1383, Term. site: 1431\n",
      "Landmark point indices: [0, 280, 494, 773, 1008, 1323, 1408]\n",
      "Starting site indices: [2242, 258, 472, 750, 988, 1311, 1383]\n",
      "Termination site indices: [21, 303, 519, 799, 1031, 1338, 1431]\n",
      "route C\n",
      "Landmark site: 1517, Start site: 1487, Term. site: 1544\n",
      "Landmark point indices: [0, 280, 494, 773, 1008, 1323, 1408, 1517]\n",
      "Starting site indices: [2242, 258, 472, 750, 988, 1311, 1383, 1487]\n",
      "Termination site indices: [21, 303, 519, 799, 1031, 1338, 1431, 1544]\n",
      "route C\n",
      "Landmark site: 1733, Start site: 1702, Term. site: 1757\n",
      "Landmark point indices: [0, 280, 494, 773, 1008, 1323, 1408, 1517, 1733]\n",
      "Starting site indices: [2242, 258, 472, 750, 988, 1311, 1383, 1487, 1702]\n",
      "Termination site indices: [21, 303, 519, 799, 1031, 1338, 1431, 1544, 1757]\n",
      "route C\n",
      "Landmark site: 1873, Start site: 1856, Term. site: 1888\n",
      "Landmark point indices: [0, 280, 494, 773, 1008, 1323, 1408, 1517, 1733, 1873]\n",
      "Starting site indices: [2242, 258, 472, 750, 988, 1311, 1383, 1487, 1702, 1856]\n",
      "Termination site indices: [21, 303, 519, 799, 1031, 1338, 1431, 1544, 1757, 1888]\n"
     ]
    },
    {
     "data": {
      "application/vnd.jupyter.widget-view+json": {
       "model_id": "2f76be648fe142ff8e99468e0978d508",
       "version_major": 2,
       "version_minor": 0
      },
      "text/plain": [
       "Canvas(toolbar=Toolbar(toolitems=[('Home', 'Reset original view', 'home', 'home'), ('Back', 'Back to previous …"
      ]
     },
     "metadata": {},
     "output_type": "display_data"
    },
    {
     "name": "stdout",
     "output_type": "stream",
     "text": [
      "    landmark number: 10\n",
      "Warning: roi_type='largest' will only return the largest contour and its immediate children. Other subcontours will be dropped.\n",
      "Contour volume: 2932.647084593773\n",
      "Fusing contour edges\n",
      "route C\n",
      "Landmark site: 0, Start site: 2442, Term. site: 22\n",
      "Landmark point indices: [0]\n",
      "Starting site indices: [2442]\n",
      "Termination site indices: [22]\n",
      "route C\n",
      "Landmark site: 358, Start site: 333, Term. site: 386\n",
      "Landmark point indices: [0, 358]\n",
      "Starting site indices: [2442, 333]\n",
      "Termination site indices: [22, 386]\n",
      "route C\n",
      "Landmark site: 595, Start site: 573, Term. site: 617\n",
      "Landmark point indices: [0, 358, 595]\n",
      "Starting site indices: [2442, 333, 573]\n",
      "Termination site indices: [22, 386, 617]\n",
      "route C\n",
      "Landmark site: 926, Start site: 905, Term. site: 943\n",
      "Landmark point indices: [0, 358, 595, 926]\n",
      "Starting site indices: [2442, 333, 573, 905]\n",
      "Termination site indices: [22, 386, 617, 943]\n",
      "route C\n",
      "Landmark site: 1004, Start site: 978, Term. site: 1027\n",
      "Landmark point indices: [0, 358, 595, 926, 1004]\n",
      "Starting site indices: [2442, 333, 573, 905, 978]\n",
      "Termination site indices: [22, 386, 617, 943, 1027]\n",
      "route C\n",
      "Landmark site: 1110, Start site: 1079, Term. site: 1133\n",
      "Landmark point indices: [0, 358, 595, 926, 1004, 1110]\n",
      "Starting site indices: [2442, 333, 573, 905, 978, 1079]\n",
      "Termination site indices: [22, 386, 617, 943, 1027, 1133]\n",
      "route C\n",
      "Landmark site: 1312, Start site: 1287, Term. site: 1339\n",
      "Landmark point indices: [0, 358, 595, 926, 1004, 1110, 1312]\n",
      "Starting site indices: [2442, 333, 573, 905, 978, 1079, 1287]\n",
      "Termination site indices: [22, 386, 617, 943, 1027, 1133, 1339]\n",
      "route C\n",
      "Landmark site: 1441, Start site: 1426, Term. site: 1458\n",
      "Landmark point indices: [0, 358, 595, 926, 1004, 1110, 1312, 1441]\n",
      "Starting site indices: [2442, 333, 573, 905, 978, 1079, 1287, 1426]\n",
      "Termination site indices: [22, 386, 617, 943, 1027, 1133, 1339, 1458]\n",
      "route C\n",
      "Landmark site: 1857, Start site: 1837, Term. site: 1880\n",
      "Landmark point indices: [0, 358, 595, 926, 1004, 1110, 1312, 1441, 1857]\n",
      "Starting site indices: [2442, 333, 573, 905, 978, 1079, 1287, 1426, 1837]\n",
      "Termination site indices: [22, 386, 617, 943, 1027, 1133, 1339, 1458, 1880]\n",
      "route C\n",
      "Landmark site: 2163, Start site: 2137, Term. site: 2187\n",
      "Landmark point indices: [0, 358, 595, 926, 1004, 1110, 1312, 1441, 1857, 2163]\n",
      "Starting site indices: [2442, 333, 573, 905, 978, 1079, 1287, 1426, 1837, 2137]\n",
      "Termination site indices: [22, 386, 617, 943, 1027, 1133, 1339, 1458, 1880, 2187]\n"
     ]
    },
    {
     "data": {
      "application/vnd.jupyter.widget-view+json": {
       "model_id": "bfa7953685c74cfda361c19706db4e6d",
       "version_major": 2,
       "version_minor": 0
      },
      "text/plain": [
       "Canvas(toolbar=Toolbar(toolitems=[('Home', 'Reset original view', 'home', 'home'), ('Back', 'Back to previous …"
      ]
     },
     "metadata": {},
     "output_type": "display_data"
    },
    {
     "name": "stdout",
     "output_type": "stream",
     "text": [
      "    landmark number: 10\n"
     ]
    }
   ],
   "source": [
    "for day in days:\n",
    "    # Turn off debugging outputs for most steps to avoid a huge amount of output\n",
    "    pcv.params.debug = None\n",
    "    # 1. Reading our image into the environment\n",
    "    img, imgpath, imgname = pcv.readimage(filename=os.path.join(path, f\"{name_prefix}{day}.jpg\"))\n",
    "    \n",
    "    # 2. Converting our RGB image into an Lab color space and extract the a and b channels\n",
    "    img_a = pcv.rgb2gray_lab(rgb_img=img, channel=\"a\")\n",
    "    img_b = pcv.rgb2gray_lab(rgb_img=img, channel=\"b\")\n",
    "    \n",
    "    # 3. Thresholding our a and b color channels to create two masks\n",
    "    mask_a = pcv.threshold.binary(gray_img=img_a, threshold=123, max_value=255, object_type=\"dark\")\n",
    "    mask_b = pcv.threshold.binary(gray_img=img_b, threshold=133, max_value=255, object_type=\"light\")\n",
    "    \n",
    "    # 4. Merging our individual a and b thresholded masks\n",
    "    mask = pcv.logical_and(bin_img1=mask_a, bin_img2=mask_b)\n",
    "    \n",
    "    # 5. Extracting our contours from the final mask\n",
    "    cnt, cnt_str = pcv.find_objects(img=img, mask=mask)\n",
    "    \n",
    "    # 6. Find largest contour of subject (outer boundary of subject)\n",
    "    roi, roi_str = pcv.roi.rectangle(img=img, x=500, y=500, h=1100, w=800)\n",
    "    kept_cnt, kept_str, kept_mask, kept_area = pcv.roi_objects(img=img, roi_contour=roi, roi_hierarchy=roi_str, \n",
    "                                                               object_contour=cnt, obj_hierarchy=cnt_str, roi_type=\"largest\")\n",
    "    \n",
    "    # 7. Extracting pseudo-landmarks from the plant contours\n",
    "    plt_img = np.copy(img)\n",
    "    for cont in kept_cnt:\n",
    "        if cv2.arcLength(cont, True) > 2*win:\n",
    "            print(f'Contour volume: {cv2.arcLength(cont, True)}')\n",
    "            # Turn debugging back on for acute\n",
    "            pcv.params.debug = \"plot\"\n",
    "            homolog_pts, homolog_start, homolog_stop, homolog_cc, chain, verbose = pcv.homology.acute(img=img, obj=cont, mask=mask,\n",
    "                                                                                                      win=win, threshold=thresh)\n",
    "            print(f'    landmark number: {len(homolog_pts)}')\n",
    "\n",
    "            for h in range(0, len(homolog_pts)):\n",
    "                landmark_output.append([name_prefix+str(day), homolog_pts[h][0][0], homolog_pts[h][0][1], homolog_start[h][0][0], \n",
    "                                        homolog_start[h][0][1], homolog_stop[h][0][0], homolog_stop[h][0][1], homolog_cc[h],])\n"
   ]
  },
  {
   "cell_type": "markdown",
   "id": "337950bf-1b73-4c1e-a087-27de11132374",
   "metadata": {},
   "source": [
    "In running the code block we should have recovered a comparable series of images with the pseudo-landmarks overlaid on top of them.  So how do our pseudo-landmarks look that we stored? Let's have a look!\n"
   ]
  },
  {
   "cell_type": "code",
   "execution_count": 9,
   "id": "cd4092ef",
   "metadata": {},
   "outputs": [
    {
     "data": {
      "text/plain": [
       "[['name', 'plm_x', 'plm_y', 'SS_x', 'SS_y', 'TS_x', 'TS_y', 'CC_ratio'],\n",
       " ['B100_rep1_d10', 901, 1151, 892, 1173, 885, 1167, 255.0],\n",
       " ['B100_rep1_d10', 787, 1425, 789, 1401, 773, 1405, 6.219512195121951],\n",
       " ['B100_rep1_d10', 571, 1344, 594, 1338, 595, 1342, 255.0],\n",
       " ['B100_rep1_d10', 793, 1523, 796, 1511, 783, 1519, 18.88888888888889],\n",
       " ['B100_rep1_d10', 712, 1511, 736, 1508, 736, 1512, 255.0],\n",
       " ['B100_rep1_d10', 803, 1555, 795, 1533, 807, 1532, 255.0],\n",
       " ['B100_rep1_d10', 922, 1415, 898, 1420, 898, 1416, 255.0],\n",
       " ['B100_rep1_d10', 803, 1478, 816, 1459, 801, 1454, 12.207446808510639],\n",
       " ['B100_rep1_d11', 912, 1123, 904, 1146, 895, 1139, 255.0],\n",
       " ['B100_rep1_d11', 786, 1370, 794, 1347, 784, 1346, 0.0],\n",
       " ['B100_rep1_d11', 752, 1236, 761, 1258, 754, 1260, 255.0],\n",
       " ['B100_rep1_d11', 783, 1427, 781, 1403, 770, 1406, 32.69230769230769],\n",
       " ['B100_rep1_d11', 576, 1353, 598, 1342, 599, 1347, 255.0],\n",
       " ['B100_rep1_d11', 790, 1525, 791, 1509, 780, 1517, 23.448275862068964],\n",
       " ['B100_rep1_d11', 706, 1510, 729, 1505, 730, 1509, 255.0],\n",
       " ['B100_rep1_d11', 802, 1553, 791, 1532, 801, 1530, 255.0],\n",
       " ['B100_rep1_d11', 914, 1417, 891, 1423, 890, 1417, 255.0],\n",
       " ['B100_rep1_d11', 798, 1475, 809, 1464, 795, 1458, 0.0],\n",
       " ['B100_rep1_d12', 932, 1108, 925, 1131, 916, 1124, 255.0],\n",
       " ['B100_rep1_d12', 784, 1362, 793, 1340, 780, 1339, 0.0],\n",
       " ['B100_rep1_d12', 720, 1151, 732, 1172, 724, 1175, 255.0],\n",
       " ['B100_rep1_d12', 779, 1425, 779, 1402, 763, 1407, 0.0],\n",
       " ['B100_rep1_d12', 568, 1367, 588, 1356, 591, 1361, 255.0],\n",
       " ['B100_rep1_d12', 790, 1523, 789, 1511, 778, 1518, 0.0],\n",
       " ['B100_rep1_d12', 713, 1509, 736, 1506, 736, 1511, 255.0],\n",
       " ['B100_rep1_d12', 801, 1555, 790, 1534, 801, 1533, 255.0],\n",
       " ['B100_rep1_d12', 919, 1422, 896, 1425, 895, 1422, 249.9],\n",
       " ['B100_rep1_d12', 797, 1475, 809, 1465, 793, 1460, 0.0],\n",
       " ['B100_rep1_d13', 659, 1079, 674, 1098, 670, 1101, 255.0],\n",
       " ['B100_rep1_d13', 771, 1428, 770, 1404, 755, 1410, 24.0],\n",
       " ['B100_rep1_d13', 560, 1373, 581, 1362, 582, 1367, 255.0],\n",
       " ['B100_rep1_d13', 784, 1526, 784, 1506, 771, 1518, 2.1982758620689653],\n",
       " ['B100_rep1_d13', 714, 1512, 737, 1506, 737, 1513, 255.0],\n",
       " ['B100_rep1_d13', 798, 1557, 784, 1538, 796, 1535, 255.0],\n",
       " ['B100_rep1_d13', 904, 1420, 882, 1428, 881, 1424, 255.0],\n",
       " ['B100_rep1_d13', 789, 1480, 801, 1469, 786, 1463, 0.0],\n",
       " ['B100_rep1_d13', 971, 1115, 957, 1133, 950, 1125, 255.0],\n",
       " ['B100_rep1_d13', 774, 1365, 781, 1342, 772, 1341, 64.83050847457628]]"
      ]
     },
     "execution_count": 9,
     "metadata": {},
     "output_type": "execute_result"
    }
   ],
   "source": [
    "landmark_output"
   ]
  },
  {
   "cell_type": "markdown",
   "id": "55c0999b-d867-4c3e-974f-5e7c1d6d51a6",
   "metadata": {},
   "source": [
    "This looks like it saved quite a bit more than an X-Y coordinates and a name for the file it came from...  We glossed over a few of the `acute` outputs in the previous exercise but it's probably worth sitting down and thinking about what they are now.  \n",
    "\n",
    "If we look at the first 3 'columns' of this output we can see that there are names that correspond to our original files alongside a X-Y coordinate list which represents the plms we've been plotting.  So what these other SS and TS coordinates that we seem to be storing as well? Let's review a graph we've seen before in the previous exercise and then discuss...\n"
   ]
  },
  {
   "cell_type": "code",
   "execution_count": 10,
   "id": "20697d11-cf45-4257-a056-e39698b9c650",
   "metadata": {},
   "outputs": [
    {
     "data": {
      "application/vnd.jupyter.widget-view+json": {
       "model_id": "8ea6bbaa60bc441a82893a1e7483507b",
       "version_major": 2,
       "version_minor": 0
      },
      "text/plain": [
       "Canvas(toolbar=Toolbar(toolitems=[('Home', 'Reset original view', 'home', 'home'), ('Back', 'Back to previous …"
      ]
     },
     "metadata": {},
     "output_type": "display_data"
    }
   ],
   "source": [
    "chain_pos=range(0, len(chain))\n",
    "\n",
    "#Plot results\n",
    "plt.figure()\n",
    "fig1=plt.plot(chain_pos, chain, color='black')\n",
    "fig1=plt.axhline(y=thresh, color='r', linestyle='-')\n",
    "fig1=plt.title('Angle scores by position')\n",
    "plt.show(fig1)"
   ]
  },
  {
   "cell_type": "markdown",
   "id": "317ab6d9-8219-4b13-be9d-3d29fa58e60d",
   "metadata": {},
   "source": [
    "This is that waveform we've been introduced to before that defines our landmarks `acute` is generating.  Notice that as we walk along this contour there are clearly a consecutive span of points defining an acute 'region' rather than and clear point in space (hence why we have a little valley of low angles rather than an abrupt dip)? When a pseudo-landmark is defined the midpoint of each of these valleys is taken as THE 'pseudo-landmark' and the ends of either side of these acute regions is stored as well and defined as the 'acute region start site (SS)' and the 'acute region termination site (TS)' (yes, this terminology may have been appropriated from molecular biology).  So in fact we're actually storing a bit of extra spatial information than what is needed to plot as we generate our pseudo-landmarks.  \n",
    "\n",
    "Now that we solved that mystery let's run 'landmark_output' and pick up where we left off..."
   ]
  },
  {
   "cell_type": "code",
   "execution_count": 11,
   "id": "a42fc642-d424-468e-8082-7113d63f615d",
   "metadata": {},
   "outputs": [
    {
     "data": {
      "text/plain": [
       "[['name', 'plm_x', 'plm_y', 'SS_x', 'SS_y', 'TS_x', 'TS_y', 'CC_ratio'],\n",
       " ['B100_rep1_d10', 901, 1151, 892, 1173, 885, 1167, 255.0],\n",
       " ['B100_rep1_d10', 787, 1425, 789, 1401, 773, 1405, 6.219512195121951],\n",
       " ['B100_rep1_d10', 571, 1344, 594, 1338, 595, 1342, 255.0],\n",
       " ['B100_rep1_d10', 793, 1523, 796, 1511, 783, 1519, 18.88888888888889],\n",
       " ['B100_rep1_d10', 712, 1511, 736, 1508, 736, 1512, 255.0],\n",
       " ['B100_rep1_d10', 803, 1555, 795, 1533, 807, 1532, 255.0],\n",
       " ['B100_rep1_d10', 922, 1415, 898, 1420, 898, 1416, 255.0],\n",
       " ['B100_rep1_d10', 803, 1478, 816, 1459, 801, 1454, 12.207446808510639],\n",
       " ['B100_rep1_d11', 912, 1123, 904, 1146, 895, 1139, 255.0],\n",
       " ['B100_rep1_d11', 786, 1370, 794, 1347, 784, 1346, 0.0],\n",
       " ['B100_rep1_d11', 752, 1236, 761, 1258, 754, 1260, 255.0],\n",
       " ['B100_rep1_d11', 783, 1427, 781, 1403, 770, 1406, 32.69230769230769],\n",
       " ['B100_rep1_d11', 576, 1353, 598, 1342, 599, 1347, 255.0],\n",
       " ['B100_rep1_d11', 790, 1525, 791, 1509, 780, 1517, 23.448275862068964],\n",
       " ['B100_rep1_d11', 706, 1510, 729, 1505, 730, 1509, 255.0],\n",
       " ['B100_rep1_d11', 802, 1553, 791, 1532, 801, 1530, 255.0],\n",
       " ['B100_rep1_d11', 914, 1417, 891, 1423, 890, 1417, 255.0],\n",
       " ['B100_rep1_d11', 798, 1475, 809, 1464, 795, 1458, 0.0],\n",
       " ['B100_rep1_d12', 932, 1108, 925, 1131, 916, 1124, 255.0],\n",
       " ['B100_rep1_d12', 784, 1362, 793, 1340, 780, 1339, 0.0],\n",
       " ['B100_rep1_d12', 720, 1151, 732, 1172, 724, 1175, 255.0],\n",
       " ['B100_rep1_d12', 779, 1425, 779, 1402, 763, 1407, 0.0],\n",
       " ['B100_rep1_d12', 568, 1367, 588, 1356, 591, 1361, 255.0],\n",
       " ['B100_rep1_d12', 790, 1523, 789, 1511, 778, 1518, 0.0],\n",
       " ['B100_rep1_d12', 713, 1509, 736, 1506, 736, 1511, 255.0],\n",
       " ['B100_rep1_d12', 801, 1555, 790, 1534, 801, 1533, 255.0],\n",
       " ['B100_rep1_d12', 919, 1422, 896, 1425, 895, 1422, 249.9],\n",
       " ['B100_rep1_d12', 797, 1475, 809, 1465, 793, 1460, 0.0],\n",
       " ['B100_rep1_d13', 659, 1079, 674, 1098, 670, 1101, 255.0],\n",
       " ['B100_rep1_d13', 771, 1428, 770, 1404, 755, 1410, 24.0],\n",
       " ['B100_rep1_d13', 560, 1373, 581, 1362, 582, 1367, 255.0],\n",
       " ['B100_rep1_d13', 784, 1526, 784, 1506, 771, 1518, 2.1982758620689653],\n",
       " ['B100_rep1_d13', 714, 1512, 737, 1506, 737, 1513, 255.0],\n",
       " ['B100_rep1_d13', 798, 1557, 784, 1538, 796, 1535, 255.0],\n",
       " ['B100_rep1_d13', 904, 1420, 882, 1428, 881, 1424, 255.0],\n",
       " ['B100_rep1_d13', 789, 1480, 801, 1469, 786, 1463, 0.0],\n",
       " ['B100_rep1_d13', 971, 1115, 957, 1133, 950, 1125, 255.0],\n",
       " ['B100_rep1_d13', 774, 1365, 781, 1342, 772, 1341, 64.83050847457628]]"
      ]
     },
     "execution_count": 11,
     "metadata": {},
     "output_type": "execute_result"
    }
   ],
   "source": [
    "landmark_output"
   ]
  },
  {
   "cell_type": "markdown",
   "id": "b618859c-2426-4dc2-95c5-0a7f2435046b",
   "metadata": {},
   "source": [
    "At this point the first 7 'columns' we're looking at here should make some intuitive sense for what they are representing. However, we still have one last variable left we're storing which is unclear in its role.  This is a special variable we've created within `acute` using the volume generated between the plm, the SS, and the TS called the 'convexity-concavity ratio' or 'CC-ratio' for short.  What could this be used for? Let's take a look at our last mask again just to get a bit of context here.\n"
   ]
  },
  {
   "cell_type": "code",
   "execution_count": 12,
   "id": "22ae6b4d-4f68-499d-a99a-28e4440a51a0",
   "metadata": {},
   "outputs": [
    {
     "data": {
      "application/vnd.jupyter.widget-view+json": {
       "model_id": "cfab61b8409c4777abbd422a0dae7a48",
       "version_major": 2,
       "version_minor": 0
      },
      "text/plain": [
       "Canvas(toolbar=Toolbar(toolitems=[('Home', 'Reset original view', 'home', 'home'), ('Back', 'Back to previous …"
      ]
     },
     "metadata": {},
     "output_type": "display_data"
    }
   ],
   "source": [
    "colorized_mask = cv2.cvtColor(mask, cv2.COLOR_GRAY2RGB)\n",
    "img_plms = np.copy(img)\n",
    "cv2.drawContours(img_plms, homolog_pts, -1, (255, 255, 255), 14)\n",
    "img_mask_plm = cv2.hconcat((colorized_mask, img_plms))\n",
    "\n",
    "#Plot results\n",
    "fig1=plt.figure(figsize=(8, 8))\n",
    "fig1=plt.imshow(img_mask_plm, 'gray')\n",
    "fig1=plt.xscale('linear')\n",
    "fig1=plt.axis('off')\n",
    "fig1=plt.title('Binary mask of plant and plms generated from this contour respectively')\n",
    "plt.show(fig1)"
   ]
  },
  {
   "cell_type": "markdown",
   "id": "dd1ac7de-5436-4ccd-98b0-b2711e8eab27",
   "metadata": {},
   "source": [
    "As we look at our landmarks (white points) against our mask we used to generate them notice that we're retrieving both our leaf tips and our ligules (i.e. the joints where the leaves meet the 'stem')? Now remember that our 'CC-ratio' was computed using the volume of the space between our plm, SS, and TS? If we were to draw a triangle around a leaf tip and a ligule it seems like the average pixel color could differ pretty drastically right? If we go back up and look at our CC-ratio's we'll notice that they range between 0 and 255 (the range of standard pixel intensities) with each one representing an average pixel intensity of all pixels internal to this volume we've specified.  Thus, we could expect values closer to black (0) to be more common in our ligules and values closer to white (255) to be more common in our leaf tips.  Thus we can use this range as a score to specify convex regions of the contour as being closer to 255 and concave regions of the contour to be closer to 0.  Although it seems like we just did a bunch of extra work for no reason in generating this meta-data we'll get to see why this strategy was so important within our third exercise to learn the general operations of `acute`.\n"
   ]
  },
  {
   "cell_type": "code",
   "execution_count": null,
   "id": "38d08afe-098b-418b-b3cd-d18aff375957",
   "metadata": {},
   "outputs": [],
   "source": []
  }
 ],
 "metadata": {
  "kernelspec": {
   "display_name": "Python [conda env:plantcv] *",
   "language": "python",
   "name": "conda-env-plantcv-py"
  },
  "language_info": {
   "codemirror_mode": {
    "name": "ipython",
    "version": 3
   },
   "file_extension": ".py",
   "mimetype": "text/x-python",
   "name": "python",
   "nbconvert_exporter": "python",
   "pygments_lexer": "ipython3",
   "version": "3.7.10"
  }
 },
 "nbformat": 4,
 "nbformat_minor": 5
}
